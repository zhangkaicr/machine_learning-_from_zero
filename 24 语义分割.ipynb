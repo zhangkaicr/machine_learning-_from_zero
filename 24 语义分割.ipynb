{
 "cells": [
  {
   "cell_type": "markdown",
   "metadata": {},
   "source": [
    "# 一、数据导入"
   ]
  },
  {
   "cell_type": "code",
   "execution_count": 1,
   "metadata": {},
   "outputs": [],
   "source": [
    "import numpy as np\n",
    "import pandas as pd\n",
    "import tensorflow as tf\n",
    "from tensorflow import keras\n",
    "from tensorflow.keras.preprocessing import image\n",
    "from PIL import Image"
   ]
  },
  {
   "cell_type": "code",
   "execution_count": 2,
   "metadata": {},
   "outputs": [
    {
     "data": {
      "text/plain": [
       "array([ 1,  2,  3,  4,  5,  6,  7,  8,  9, 10, 11, 12, 13, 14, 15, 16, 17,\n",
       "       18, 19, 20, 21, 22, 23, 24, 25, 26, 27, 28, 29, 30, 31, 32, 33, 34,\n",
       "       35, 36, 37, 38])"
      ]
     },
     "execution_count": 2,
     "metadata": {},
     "output_type": "execute_result"
    }
   ],
   "source": [
    "list_1= np.arange(1,39)\n",
    "list_1"
   ]
  },
  {
   "cell_type": "code",
   "execution_count": 3,
   "metadata": {},
   "outputs": [],
   "source": [
    "img_552= []\n",
    "for i in list_1:\n",
    "    if i<10:\n",
    "        imgname = 'input/552/RCA/'+'0'+ str(i)+'R-LAO.jpg'\n",
    "        img = image.load_img(imgname,target_size=(512,512))\n",
    "        img = image.img_to_array(img)\n",
    "        img_552.append(img)\n",
    "    elif i==36:\n",
    "        pass\n",
    "    else:\n",
    "        imgname = 'input/552/RCA/'+ str(i)+'R-LAO.jpg'\n",
    "        img = image.load_img(imgname,target_size=(512,512))\n",
    "        img = image.img_to_array(img)\n",
    "        img_552.append(img)"
   ]
  },
  {
   "cell_type": "code",
   "execution_count": 4,
   "metadata": {},
   "outputs": [
    {
     "data": {
      "text/plain": [
       "37"
      ]
     },
     "execution_count": 4,
     "metadata": {},
     "output_type": "execute_result"
    }
   ],
   "source": [
    "len(img_552) #img_552.shape  "
   ]
  },
  {
   "cell_type": "code",
   "execution_count": 5,
   "metadata": {},
   "outputs": [
    {
     "data": {
      "text/plain": [
       "(37, 512, 512, 3)"
      ]
     },
     "execution_count": 5,
     "metadata": {},
     "output_type": "execute_result"
    }
   ],
   "source": [
    "img_552 = np.array(img_552)\n",
    "img_552.shape"
   ]
  },
  {
   "cell_type": "code",
   "execution_count": 6,
   "metadata": {},
   "outputs": [
    {
     "data": {
      "text/plain": [
       "array([ 0,  1,  2,  3,  4,  5,  6,  7,  8,  9, 10, 11, 12, 13, 14, 15, 16,\n",
       "       17, 18, 19, 20, 21, 22, 23, 24, 25])"
      ]
     },
     "execution_count": 6,
     "metadata": {},
     "output_type": "execute_result"
    }
   ],
   "source": [
    "list_2= np.arange(0,26)\n",
    "list_2"
   ]
  },
  {
   "cell_type": "code",
   "execution_count": 7,
   "metadata": {},
   "outputs": [],
   "source": [
    "img_476 = []\n",
    "for i in list_2:\n",
    "    if i==9:\n",
    "        pass\n",
    "    elif i<10:\n",
    "        imgname = 'input/476/RCA/'+'0'+ str(i)+'R-LAO.jpg'\n",
    "        img = image.load_img(imgname,target_size=(512,512))\n",
    "        img = image.img_to_array(img)\n",
    "        img_476.append(img)\n",
    "    else:\n",
    "        imgname = 'input/476/RCA/'+ str(i)+'R-LAO.jpg'\n",
    "        img = image.load_img(imgname,target_size=(512,512))\n",
    "        img = image.img_to_array(img)\n",
    "        img_476.append(img)"
   ]
  },
  {
   "cell_type": "code",
   "execution_count": 8,
   "metadata": {},
   "outputs": [
    {
     "data": {
      "text/plain": [
       "(25, 512, 512, 3)"
      ]
     },
     "execution_count": 8,
     "metadata": {},
     "output_type": "execute_result"
    }
   ],
   "source": [
    "img_476 = np.array(img_476)\n",
    "img_476.shape"
   ]
  },
  {
   "cell_type": "code",
   "execution_count": 9,
   "metadata": {
    "scrolled": true
   },
   "outputs": [],
   "source": [
    "y_552 = []\n",
    "for i in list_1:\n",
    "    if i<10:\n",
    "        imgname = 'input/552/RCA_MASK/'+'0'+ str(i)+'R-LAO-512.jpg'\n",
    "        img = Image.open(imgname)\n",
    "        img = np.array(img)\n",
    "        y_552.append(img)\n",
    "    elif i==36:\n",
    "        pass\n",
    "    else:\n",
    "        imgname = 'input/552/RCA_MASK/'+ str(i)+'R-LAO-512.jpg'\n",
    "        img = Image.open(imgname)\n",
    "        img = np.array(img)\n",
    "        y_552.append(img)"
   ]
  },
  {
   "cell_type": "code",
   "execution_count": 10,
   "metadata": {},
   "outputs": [
    {
     "data": {
      "text/plain": [
       "(37, 512, 512, 3)"
      ]
     },
     "execution_count": 10,
     "metadata": {},
     "output_type": "execute_result"
    }
   ],
   "source": [
    "y_552 = np.array(y_552)\n",
    "y_552.shape"
   ]
  },
  {
   "cell_type": "code",
   "execution_count": 11,
   "metadata": {},
   "outputs": [],
   "source": [
    "y_476 = []\n",
    "for i in list_2:\n",
    "    if i==9:\n",
    "        pass\n",
    "    elif i<10:\n",
    "        imgname = 'input/476/RCA_MASK/'+'0'+ str(i)+'R-LAO-512.jpg'\n",
    "        img = Image.open(imgname)\n",
    "        img = np.array(img)\n",
    "        y_476.append(img)\n",
    "    else:\n",
    "        imgname = 'input/476/RCA_MASK/'+ str(i)+'R-LAO-512.jpg'\n",
    "        img = Image.open(imgname)\n",
    "        img = np.array(img)\n",
    "        y_476.append(img)"
   ]
  },
  {
   "cell_type": "code",
   "execution_count": 12,
   "metadata": {
    "scrolled": true
   },
   "outputs": [
    {
     "data": {
      "text/plain": [
       "(25, 512, 512, 3)"
      ]
     },
     "execution_count": 12,
     "metadata": {},
     "output_type": "execute_result"
    }
   ],
   "source": [
    "y_476=np.array(y_476)\n",
    "y_476.shape"
   ]
  },
  {
   "cell_type": "markdown",
   "metadata": {},
   "source": [
    "# 二、设置变量"
   ]
  },
  {
   "cell_type": "code",
   "execution_count": 13,
   "metadata": {},
   "outputs": [],
   "source": [
    "train_x = img_552"
   ]
  },
  {
   "cell_type": "code",
   "execution_count": 14,
   "metadata": {},
   "outputs": [],
   "source": [
    "valid_x = img_476"
   ]
  },
  {
   "cell_type": "code",
   "execution_count": 15,
   "metadata": {},
   "outputs": [],
   "source": [
    "y_552[y_552!=[255,255,255]]=1\n",
    "y_552[y_552==[255,255,255]]=0"
   ]
  },
  {
   "cell_type": "code",
   "execution_count": 16,
   "metadata": {},
   "outputs": [],
   "source": [
    "y_476[y_476!=[255,255,255]]=1\n",
    "y_476[y_476==[255,255,255]]=0"
   ]
  },
  {
   "cell_type": "code",
   "execution_count": 17,
   "metadata": {},
   "outputs": [
    {
     "data": {
      "text/plain": [
       "array([[[[0, 0, 0],\n",
       "         [0, 0, 0],\n",
       "         [0, 0, 0],\n",
       "         ...,\n",
       "         [0, 0, 0],\n",
       "         [0, 0, 0],\n",
       "         [0, 0, 0]],\n",
       "\n",
       "        [[0, 0, 0],\n",
       "         [0, 0, 0],\n",
       "         [0, 0, 0],\n",
       "         ...,\n",
       "         [0, 0, 0],\n",
       "         [0, 0, 0],\n",
       "         [0, 0, 0]],\n",
       "\n",
       "        [[0, 0, 0],\n",
       "         [0, 0, 0],\n",
       "         [0, 0, 0],\n",
       "         ...,\n",
       "         [0, 0, 0],\n",
       "         [0, 0, 0],\n",
       "         [0, 0, 0]],\n",
       "\n",
       "        ...,\n",
       "\n",
       "        [[0, 0, 0],\n",
       "         [0, 0, 0],\n",
       "         [0, 0, 0],\n",
       "         ...,\n",
       "         [0, 0, 0],\n",
       "         [0, 0, 0],\n",
       "         [0, 0, 0]],\n",
       "\n",
       "        [[0, 0, 0],\n",
       "         [0, 0, 0],\n",
       "         [0, 0, 0],\n",
       "         ...,\n",
       "         [0, 0, 0],\n",
       "         [0, 0, 0],\n",
       "         [0, 0, 0]],\n",
       "\n",
       "        [[0, 0, 0],\n",
       "         [0, 0, 0],\n",
       "         [0, 0, 0],\n",
       "         ...,\n",
       "         [0, 0, 0],\n",
       "         [0, 0, 0],\n",
       "         [0, 0, 0]]],\n",
       "\n",
       "\n",
       "       [[[0, 0, 0],\n",
       "         [0, 0, 0],\n",
       "         [0, 0, 0],\n",
       "         ...,\n",
       "         [0, 0, 0],\n",
       "         [0, 0, 0],\n",
       "         [0, 0, 0]],\n",
       "\n",
       "        [[0, 0, 0],\n",
       "         [0, 0, 0],\n",
       "         [0, 0, 0],\n",
       "         ...,\n",
       "         [0, 0, 0],\n",
       "         [0, 0, 0],\n",
       "         [0, 0, 0]],\n",
       "\n",
       "        [[0, 0, 0],\n",
       "         [0, 0, 0],\n",
       "         [0, 0, 0],\n",
       "         ...,\n",
       "         [0, 0, 0],\n",
       "         [0, 0, 0],\n",
       "         [0, 0, 0]],\n",
       "\n",
       "        ...,\n",
       "\n",
       "        [[0, 0, 0],\n",
       "         [0, 0, 0],\n",
       "         [0, 0, 0],\n",
       "         ...,\n",
       "         [0, 0, 0],\n",
       "         [0, 0, 0],\n",
       "         [0, 0, 0]],\n",
       "\n",
       "        [[0, 0, 0],\n",
       "         [0, 0, 0],\n",
       "         [0, 0, 0],\n",
       "         ...,\n",
       "         [0, 0, 0],\n",
       "         [0, 0, 0],\n",
       "         [0, 0, 0]],\n",
       "\n",
       "        [[0, 0, 0],\n",
       "         [0, 0, 0],\n",
       "         [0, 0, 0],\n",
       "         ...,\n",
       "         [0, 0, 0],\n",
       "         [0, 0, 0],\n",
       "         [0, 0, 0]]],\n",
       "\n",
       "\n",
       "       [[[0, 0, 0],\n",
       "         [0, 0, 0],\n",
       "         [0, 0, 0],\n",
       "         ...,\n",
       "         [0, 0, 0],\n",
       "         [0, 0, 0],\n",
       "         [0, 0, 0]],\n",
       "\n",
       "        [[0, 0, 0],\n",
       "         [0, 0, 0],\n",
       "         [0, 0, 0],\n",
       "         ...,\n",
       "         [0, 0, 0],\n",
       "         [0, 0, 0],\n",
       "         [0, 0, 0]],\n",
       "\n",
       "        [[0, 0, 0],\n",
       "         [0, 0, 0],\n",
       "         [0, 0, 0],\n",
       "         ...,\n",
       "         [0, 0, 0],\n",
       "         [0, 0, 0],\n",
       "         [0, 0, 0]],\n",
       "\n",
       "        ...,\n",
       "\n",
       "        [[0, 0, 0],\n",
       "         [0, 0, 0],\n",
       "         [0, 0, 0],\n",
       "         ...,\n",
       "         [0, 0, 0],\n",
       "         [0, 0, 0],\n",
       "         [0, 0, 0]],\n",
       "\n",
       "        [[0, 0, 0],\n",
       "         [0, 0, 0],\n",
       "         [0, 0, 0],\n",
       "         ...,\n",
       "         [0, 0, 0],\n",
       "         [0, 0, 0],\n",
       "         [0, 0, 0]],\n",
       "\n",
       "        [[0, 0, 0],\n",
       "         [0, 0, 0],\n",
       "         [0, 0, 0],\n",
       "         ...,\n",
       "         [0, 0, 0],\n",
       "         [0, 0, 0],\n",
       "         [0, 0, 0]]],\n",
       "\n",
       "\n",
       "       ...,\n",
       "\n",
       "\n",
       "       [[[0, 0, 0],\n",
       "         [0, 0, 0],\n",
       "         [0, 0, 0],\n",
       "         ...,\n",
       "         [0, 0, 0],\n",
       "         [0, 0, 0],\n",
       "         [0, 0, 0]],\n",
       "\n",
       "        [[0, 0, 0],\n",
       "         [0, 0, 0],\n",
       "         [0, 0, 0],\n",
       "         ...,\n",
       "         [0, 0, 0],\n",
       "         [0, 0, 0],\n",
       "         [0, 0, 0]],\n",
       "\n",
       "        [[0, 0, 0],\n",
       "         [0, 0, 0],\n",
       "         [0, 0, 0],\n",
       "         ...,\n",
       "         [0, 0, 0],\n",
       "         [0, 0, 0],\n",
       "         [0, 0, 0]],\n",
       "\n",
       "        ...,\n",
       "\n",
       "        [[0, 0, 0],\n",
       "         [0, 0, 0],\n",
       "         [0, 0, 0],\n",
       "         ...,\n",
       "         [0, 0, 0],\n",
       "         [0, 0, 0],\n",
       "         [0, 0, 0]],\n",
       "\n",
       "        [[0, 0, 0],\n",
       "         [0, 0, 0],\n",
       "         [0, 0, 0],\n",
       "         ...,\n",
       "         [0, 0, 0],\n",
       "         [0, 0, 0],\n",
       "         [0, 0, 0]],\n",
       "\n",
       "        [[0, 0, 0],\n",
       "         [0, 0, 0],\n",
       "         [0, 0, 0],\n",
       "         ...,\n",
       "         [0, 0, 0],\n",
       "         [0, 0, 0],\n",
       "         [0, 0, 0]]],\n",
       "\n",
       "\n",
       "       [[[0, 0, 0],\n",
       "         [0, 0, 0],\n",
       "         [0, 0, 0],\n",
       "         ...,\n",
       "         [0, 0, 0],\n",
       "         [0, 0, 0],\n",
       "         [0, 0, 0]],\n",
       "\n",
       "        [[0, 0, 0],\n",
       "         [0, 0, 0],\n",
       "         [0, 0, 0],\n",
       "         ...,\n",
       "         [0, 0, 0],\n",
       "         [0, 0, 0],\n",
       "         [0, 0, 0]],\n",
       "\n",
       "        [[0, 0, 0],\n",
       "         [0, 0, 0],\n",
       "         [0, 0, 0],\n",
       "         ...,\n",
       "         [0, 0, 0],\n",
       "         [0, 0, 0],\n",
       "         [0, 0, 0]],\n",
       "\n",
       "        ...,\n",
       "\n",
       "        [[0, 0, 0],\n",
       "         [0, 0, 0],\n",
       "         [0, 0, 0],\n",
       "         ...,\n",
       "         [0, 0, 0],\n",
       "         [0, 0, 0],\n",
       "         [0, 0, 0]],\n",
       "\n",
       "        [[0, 0, 0],\n",
       "         [0, 0, 0],\n",
       "         [0, 0, 0],\n",
       "         ...,\n",
       "         [0, 0, 0],\n",
       "         [0, 0, 0],\n",
       "         [0, 0, 0]],\n",
       "\n",
       "        [[0, 0, 0],\n",
       "         [0, 0, 0],\n",
       "         [0, 0, 0],\n",
       "         ...,\n",
       "         [0, 0, 0],\n",
       "         [0, 0, 0],\n",
       "         [0, 0, 0]]],\n",
       "\n",
       "\n",
       "       [[[0, 0, 0],\n",
       "         [0, 0, 0],\n",
       "         [0, 0, 0],\n",
       "         ...,\n",
       "         [0, 0, 0],\n",
       "         [0, 0, 0],\n",
       "         [0, 0, 0]],\n",
       "\n",
       "        [[0, 0, 0],\n",
       "         [0, 0, 0],\n",
       "         [0, 0, 0],\n",
       "         ...,\n",
       "         [0, 0, 0],\n",
       "         [0, 0, 0],\n",
       "         [0, 0, 0]],\n",
       "\n",
       "        [[0, 0, 0],\n",
       "         [0, 0, 0],\n",
       "         [0, 0, 0],\n",
       "         ...,\n",
       "         [0, 0, 0],\n",
       "         [0, 0, 0],\n",
       "         [0, 0, 0]],\n",
       "\n",
       "        ...,\n",
       "\n",
       "        [[0, 0, 0],\n",
       "         [0, 0, 0],\n",
       "         [0, 0, 0],\n",
       "         ...,\n",
       "         [0, 0, 0],\n",
       "         [0, 0, 0],\n",
       "         [0, 0, 0]],\n",
       "\n",
       "        [[0, 0, 0],\n",
       "         [0, 0, 0],\n",
       "         [0, 0, 0],\n",
       "         ...,\n",
       "         [0, 0, 0],\n",
       "         [0, 0, 0],\n",
       "         [0, 0, 0]],\n",
       "\n",
       "        [[0, 0, 0],\n",
       "         [0, 0, 0],\n",
       "         [0, 0, 0],\n",
       "         ...,\n",
       "         [0, 0, 0],\n",
       "         [0, 0, 0],\n",
       "         [0, 0, 0]]]], dtype=uint8)"
      ]
     },
     "execution_count": 17,
     "metadata": {},
     "output_type": "execute_result"
    }
   ],
   "source": [
    "y_552"
   ]
  },
  {
   "cell_type": "code",
   "execution_count": 18,
   "metadata": {},
   "outputs": [
    {
     "data": {
      "text/plain": [
       "array([[[[0, 0, 0],\n",
       "         [0, 0, 0],\n",
       "         [0, 0, 0],\n",
       "         ...,\n",
       "         [0, 0, 0],\n",
       "         [0, 0, 0],\n",
       "         [0, 0, 0]],\n",
       "\n",
       "        [[0, 0, 0],\n",
       "         [0, 0, 0],\n",
       "         [0, 0, 0],\n",
       "         ...,\n",
       "         [0, 0, 0],\n",
       "         [0, 0, 0],\n",
       "         [0, 0, 0]],\n",
       "\n",
       "        [[0, 0, 0],\n",
       "         [0, 0, 0],\n",
       "         [0, 0, 0],\n",
       "         ...,\n",
       "         [0, 0, 0],\n",
       "         [0, 0, 0],\n",
       "         [0, 0, 0]],\n",
       "\n",
       "        ...,\n",
       "\n",
       "        [[0, 0, 0],\n",
       "         [0, 0, 0],\n",
       "         [0, 0, 0],\n",
       "         ...,\n",
       "         [0, 0, 0],\n",
       "         [0, 0, 0],\n",
       "         [0, 0, 0]],\n",
       "\n",
       "        [[0, 0, 0],\n",
       "         [0, 0, 0],\n",
       "         [0, 0, 0],\n",
       "         ...,\n",
       "         [0, 0, 0],\n",
       "         [0, 0, 0],\n",
       "         [0, 0, 0]],\n",
       "\n",
       "        [[0, 0, 0],\n",
       "         [0, 0, 0],\n",
       "         [0, 0, 0],\n",
       "         ...,\n",
       "         [0, 0, 0],\n",
       "         [0, 0, 0],\n",
       "         [0, 0, 0]]],\n",
       "\n",
       "\n",
       "       [[[0, 0, 0],\n",
       "         [0, 0, 0],\n",
       "         [0, 0, 0],\n",
       "         ...,\n",
       "         [0, 0, 0],\n",
       "         [0, 0, 0],\n",
       "         [0, 0, 0]],\n",
       "\n",
       "        [[0, 0, 0],\n",
       "         [0, 0, 0],\n",
       "         [0, 0, 0],\n",
       "         ...,\n",
       "         [0, 0, 0],\n",
       "         [0, 0, 0],\n",
       "         [0, 0, 0]],\n",
       "\n",
       "        [[0, 0, 0],\n",
       "         [0, 0, 0],\n",
       "         [0, 0, 0],\n",
       "         ...,\n",
       "         [0, 0, 0],\n",
       "         [0, 0, 0],\n",
       "         [0, 0, 0]],\n",
       "\n",
       "        ...,\n",
       "\n",
       "        [[0, 0, 0],\n",
       "         [0, 0, 0],\n",
       "         [0, 0, 0],\n",
       "         ...,\n",
       "         [0, 0, 0],\n",
       "         [0, 0, 0],\n",
       "         [0, 0, 0]],\n",
       "\n",
       "        [[0, 0, 0],\n",
       "         [0, 0, 0],\n",
       "         [0, 0, 0],\n",
       "         ...,\n",
       "         [0, 0, 0],\n",
       "         [0, 0, 0],\n",
       "         [0, 0, 0]],\n",
       "\n",
       "        [[0, 0, 0],\n",
       "         [0, 0, 0],\n",
       "         [0, 0, 0],\n",
       "         ...,\n",
       "         [0, 0, 0],\n",
       "         [0, 0, 0],\n",
       "         [0, 0, 0]]],\n",
       "\n",
       "\n",
       "       [[[0, 0, 0],\n",
       "         [0, 0, 0],\n",
       "         [0, 0, 0],\n",
       "         ...,\n",
       "         [0, 0, 0],\n",
       "         [0, 0, 0],\n",
       "         [0, 0, 0]],\n",
       "\n",
       "        [[0, 0, 0],\n",
       "         [0, 0, 0],\n",
       "         [0, 0, 0],\n",
       "         ...,\n",
       "         [0, 0, 0],\n",
       "         [0, 0, 0],\n",
       "         [0, 0, 0]],\n",
       "\n",
       "        [[0, 0, 0],\n",
       "         [0, 0, 0],\n",
       "         [0, 0, 0],\n",
       "         ...,\n",
       "         [0, 0, 0],\n",
       "         [0, 0, 0],\n",
       "         [0, 0, 0]],\n",
       "\n",
       "        ...,\n",
       "\n",
       "        [[0, 0, 0],\n",
       "         [0, 0, 0],\n",
       "         [0, 0, 0],\n",
       "         ...,\n",
       "         [0, 0, 0],\n",
       "         [0, 0, 0],\n",
       "         [0, 0, 0]],\n",
       "\n",
       "        [[0, 0, 0],\n",
       "         [0, 0, 0],\n",
       "         [0, 0, 0],\n",
       "         ...,\n",
       "         [0, 0, 0],\n",
       "         [0, 0, 0],\n",
       "         [0, 0, 0]],\n",
       "\n",
       "        [[0, 0, 0],\n",
       "         [0, 0, 0],\n",
       "         [0, 0, 0],\n",
       "         ...,\n",
       "         [0, 0, 0],\n",
       "         [0, 0, 0],\n",
       "         [0, 0, 0]]],\n",
       "\n",
       "\n",
       "       ...,\n",
       "\n",
       "\n",
       "       [[[0, 0, 0],\n",
       "         [0, 0, 0],\n",
       "         [0, 0, 0],\n",
       "         ...,\n",
       "         [0, 0, 0],\n",
       "         [0, 0, 0],\n",
       "         [0, 0, 0]],\n",
       "\n",
       "        [[0, 0, 0],\n",
       "         [0, 0, 0],\n",
       "         [0, 0, 0],\n",
       "         ...,\n",
       "         [0, 0, 0],\n",
       "         [0, 0, 0],\n",
       "         [0, 0, 0]],\n",
       "\n",
       "        [[0, 0, 0],\n",
       "         [0, 0, 0],\n",
       "         [0, 0, 0],\n",
       "         ...,\n",
       "         [0, 0, 0],\n",
       "         [0, 0, 0],\n",
       "         [0, 0, 0]],\n",
       "\n",
       "        ...,\n",
       "\n",
       "        [[0, 0, 0],\n",
       "         [0, 0, 0],\n",
       "         [0, 0, 0],\n",
       "         ...,\n",
       "         [0, 0, 0],\n",
       "         [0, 0, 0],\n",
       "         [0, 0, 0]],\n",
       "\n",
       "        [[0, 0, 0],\n",
       "         [0, 0, 0],\n",
       "         [0, 0, 0],\n",
       "         ...,\n",
       "         [0, 0, 0],\n",
       "         [0, 0, 0],\n",
       "         [0, 0, 0]],\n",
       "\n",
       "        [[0, 0, 0],\n",
       "         [0, 0, 0],\n",
       "         [0, 0, 0],\n",
       "         ...,\n",
       "         [0, 0, 0],\n",
       "         [0, 0, 0],\n",
       "         [0, 0, 0]]],\n",
       "\n",
       "\n",
       "       [[[0, 0, 0],\n",
       "         [0, 0, 0],\n",
       "         [0, 0, 0],\n",
       "         ...,\n",
       "         [0, 0, 0],\n",
       "         [0, 0, 0],\n",
       "         [0, 0, 0]],\n",
       "\n",
       "        [[0, 0, 0],\n",
       "         [0, 0, 0],\n",
       "         [0, 0, 0],\n",
       "         ...,\n",
       "         [0, 0, 0],\n",
       "         [0, 0, 0],\n",
       "         [0, 0, 0]],\n",
       "\n",
       "        [[0, 0, 0],\n",
       "         [0, 0, 0],\n",
       "         [0, 0, 0],\n",
       "         ...,\n",
       "         [0, 0, 0],\n",
       "         [0, 0, 0],\n",
       "         [0, 0, 0]],\n",
       "\n",
       "        ...,\n",
       "\n",
       "        [[0, 0, 0],\n",
       "         [0, 0, 0],\n",
       "         [0, 0, 0],\n",
       "         ...,\n",
       "         [0, 0, 0],\n",
       "         [0, 0, 0],\n",
       "         [0, 0, 0]],\n",
       "\n",
       "        [[0, 0, 0],\n",
       "         [0, 0, 0],\n",
       "         [0, 0, 0],\n",
       "         ...,\n",
       "         [0, 0, 0],\n",
       "         [0, 0, 0],\n",
       "         [0, 0, 0]],\n",
       "\n",
       "        [[0, 0, 0],\n",
       "         [0, 0, 0],\n",
       "         [0, 0, 0],\n",
       "         ...,\n",
       "         [0, 0, 0],\n",
       "         [0, 0, 0],\n",
       "         [0, 0, 0]]],\n",
       "\n",
       "\n",
       "       [[[0, 0, 0],\n",
       "         [0, 0, 0],\n",
       "         [0, 0, 0],\n",
       "         ...,\n",
       "         [0, 0, 0],\n",
       "         [0, 0, 0],\n",
       "         [0, 0, 0]],\n",
       "\n",
       "        [[0, 0, 0],\n",
       "         [0, 0, 0],\n",
       "         [0, 0, 0],\n",
       "         ...,\n",
       "         [0, 0, 0],\n",
       "         [0, 0, 0],\n",
       "         [0, 0, 0]],\n",
       "\n",
       "        [[0, 0, 0],\n",
       "         [0, 0, 0],\n",
       "         [0, 0, 0],\n",
       "         ...,\n",
       "         [0, 0, 0],\n",
       "         [0, 0, 0],\n",
       "         [0, 0, 0]],\n",
       "\n",
       "        ...,\n",
       "\n",
       "        [[0, 0, 0],\n",
       "         [0, 0, 0],\n",
       "         [0, 0, 0],\n",
       "         ...,\n",
       "         [0, 0, 0],\n",
       "         [0, 0, 0],\n",
       "         [0, 0, 0]],\n",
       "\n",
       "        [[0, 0, 0],\n",
       "         [0, 0, 0],\n",
       "         [0, 0, 0],\n",
       "         ...,\n",
       "         [0, 0, 0],\n",
       "         [0, 0, 0],\n",
       "         [0, 0, 0]],\n",
       "\n",
       "        [[0, 0, 0],\n",
       "         [0, 0, 0],\n",
       "         [0, 0, 0],\n",
       "         ...,\n",
       "         [0, 0, 0],\n",
       "         [0, 0, 0],\n",
       "         [0, 0, 0]]]], dtype=uint8)"
      ]
     },
     "execution_count": 18,
     "metadata": {},
     "output_type": "execute_result"
    }
   ],
   "source": [
    "y_476"
   ]
  },
  {
   "cell_type": "code",
   "execution_count": 19,
   "metadata": {},
   "outputs": [],
   "source": [
    "y_552_ = y_552[:,::2,::2,0]\n",
    "y_476_ = y_476[:,::2,::2,0]"
   ]
  },
  {
   "cell_type": "code",
   "execution_count": 20,
   "metadata": {},
   "outputs": [],
   "source": [
    "y_552_ = y_552_.reshape(37,256,256,1)\n",
    "y_476_ = y_476_.reshape(25,256,256,1)"
   ]
  },
  {
   "cell_type": "code",
   "execution_count": 21,
   "metadata": {},
   "outputs": [
    {
     "name": "stdout",
     "output_type": "stream",
     "text": [
      "float32\n",
      "(37, 256, 256, 3)\n"
     ]
    }
   ],
   "source": [
    "train_x_ = train_x.astype(\"float32\") * 1/255\n",
    "train_x_ = train_x_[:,::2,::2]\n",
    "print(train_x_.dtype)\n",
    "print(train_x_.shape)"
   ]
  },
  {
   "cell_type": "code",
   "execution_count": 22,
   "metadata": {},
   "outputs": [
    {
     "name": "stdout",
     "output_type": "stream",
     "text": [
      "float32\n",
      "(25, 256, 256, 3)\n"
     ]
    }
   ],
   "source": [
    "valid_x_ = valid_x.astype(\"float32\") * 1/255\n",
    "valid_x_ = valid_x_[:,::2,::2]\n",
    "print(valid_x_.dtype)\n",
    "print(valid_x_.shape)"
   ]
  },
  {
   "cell_type": "markdown",
   "metadata": {},
   "source": [
    "# 三、自编码器"
   ]
  },
  {
   "cell_type": "code",
   "execution_count": 23,
   "metadata": {},
   "outputs": [],
   "source": [
    "physical_devices = tf.config.list_physical_devices('GPU')"
   ]
  },
  {
   "cell_type": "code",
   "execution_count": 24,
   "metadata": {},
   "outputs": [],
   "source": [
    "tf.config.experimental.set_memory_growth(physical_devices[0], True)"
   ]
  },
  {
   "cell_type": "code",
   "execution_count": 25,
   "metadata": {},
   "outputs": [],
   "source": [
    "conv_encoder = keras.models.Sequential([\n",
    "    keras.layers.InputLayer(input_shape=[256, 256,3]),\n",
    "    keras.layers.Conv2D(4, kernel_size=3, padding=\"same\",activation=\"selu\"),\n",
    "    keras.layers.Conv2D(8, kernel_size=3, padding=\"same\",activation=\"selu\"),\n",
    "    keras.layers.MaxPool2D(pool_size=2),\n",
    "    keras.layers.Conv2D(16, kernel_size=3, padding=\"same\",activation=\"selu\"),\n",
    "    keras.layers.MaxPool2D(pool_size=2),\n",
    "    keras.layers.Conv2D(16, kernel_size=3, padding=\"same\",activation=\"selu\"),\n",
    "    keras.layers.MaxPool2D(pool_size=2),\n",
    "    keras.layers.Flatten()])"
   ]
  },
  {
   "cell_type": "code",
   "execution_count": 26,
   "metadata": {},
   "outputs": [
    {
     "name": "stdout",
     "output_type": "stream",
     "text": [
      "Model: \"sequential\"\n",
      "_________________________________________________________________\n",
      "Layer (type)                 Output Shape              Param #   \n",
      "=================================================================\n",
      "conv2d (Conv2D)              (None, 256, 256, 4)       112       \n",
      "_________________________________________________________________\n",
      "conv2d_1 (Conv2D)            (None, 256, 256, 8)       296       \n",
      "_________________________________________________________________\n",
      "max_pooling2d (MaxPooling2D) (None, 128, 128, 8)       0         \n",
      "_________________________________________________________________\n",
      "conv2d_2 (Conv2D)            (None, 128, 128, 16)      1168      \n",
      "_________________________________________________________________\n",
      "max_pooling2d_1 (MaxPooling2 (None, 64, 64, 16)        0         \n",
      "_________________________________________________________________\n",
      "conv2d_3 (Conv2D)            (None, 64, 64, 16)        2320      \n",
      "_________________________________________________________________\n",
      "max_pooling2d_2 (MaxPooling2 (None, 32, 32, 16)        0         \n",
      "_________________________________________________________________\n",
      "flatten (Flatten)            (None, 16384)             0         \n",
      "=================================================================\n",
      "Total params: 3,896\n",
      "Trainable params: 3,896\n",
      "Non-trainable params: 0\n",
      "_________________________________________________________________\n"
     ]
    }
   ],
   "source": [
    "conv_encoder.summary()"
   ]
  },
  {
   "cell_type": "code",
   "execution_count": 27,
   "metadata": {},
   "outputs": [],
   "source": [
    "conv_decoder = keras.models.Sequential([\n",
    "    keras.layers.Reshape([32, 32, 16],input_shape=[16384]),\n",
    "    keras.layers.Conv2DTranspose(16, kernel_size=3, strides=2, padding=\"same\",activation=\"selu\"),\n",
    "    keras.layers.Conv2DTranspose(16, kernel_size=3, strides=2, padding=\"same\",activation=\"selu\"),\n",
    "    keras.layers.Conv2DTranspose(8, kernel_size=3, strides=2, padding=\"same\",activation=\"selu\"),\n",
    "    keras.layers.Conv2DTranspose(4, kernel_size=3, padding=\"same\",activation=\"selu\"),\n",
    "    keras.layers.Conv2DTranspose(3, kernel_size=3, padding=\"same\",activation=\"selu\"),\n",
    "    keras.layers.Conv2DTranspose(1, kernel_size=3, padding=\"same\",activation=\"sigmoid\")])"
   ]
  },
  {
   "cell_type": "code",
   "execution_count": 28,
   "metadata": {},
   "outputs": [
    {
     "name": "stdout",
     "output_type": "stream",
     "text": [
      "Model: \"sequential_1\"\n",
      "_________________________________________________________________\n",
      "Layer (type)                 Output Shape              Param #   \n",
      "=================================================================\n",
      "reshape (Reshape)            (None, 32, 32, 16)        0         \n",
      "_________________________________________________________________\n",
      "conv2d_transpose (Conv2DTran (None, 64, 64, 16)        2320      \n",
      "_________________________________________________________________\n",
      "conv2d_transpose_1 (Conv2DTr (None, 128, 128, 16)      2320      \n",
      "_________________________________________________________________\n",
      "conv2d_transpose_2 (Conv2DTr (None, 256, 256, 8)       1160      \n",
      "_________________________________________________________________\n",
      "conv2d_transpose_3 (Conv2DTr (None, 256, 256, 4)       292       \n",
      "_________________________________________________________________\n",
      "conv2d_transpose_4 (Conv2DTr (None, 256, 256, 3)       111       \n",
      "_________________________________________________________________\n",
      "conv2d_transpose_5 (Conv2DTr (None, 256, 256, 1)       28        \n",
      "=================================================================\n",
      "Total params: 6,231\n",
      "Trainable params: 6,231\n",
      "Non-trainable params: 0\n",
      "_________________________________________________________________\n"
     ]
    }
   ],
   "source": [
    "conv_decoder.summary()"
   ]
  },
  {
   "cell_type": "code",
   "execution_count": 29,
   "metadata": {},
   "outputs": [],
   "source": [
    "conv_ae = keras.models.Sequential([conv_encoder, conv_decoder])"
   ]
  },
  {
   "cell_type": "code",
   "execution_count": 30,
   "metadata": {},
   "outputs": [],
   "source": [
    "conv_ae.compile(loss='binary_crossentropy',metrics='acc',\n",
    "                optimizer=keras.optimizers.Adam(learning_rate=0.0005,))"
   ]
  },
  {
   "cell_type": "code",
   "execution_count": 31,
   "metadata": {
    "scrolled": true
   },
   "outputs": [
    {
     "name": "stdout",
     "output_type": "stream",
     "text": [
      "Epoch 1/200\n",
      "8/8 [==============================] - ETA: 0s - loss: 0.6805 - acc: 0.5899WARNING:tensorflow:Callbacks method `on_test_batch_end` is slow compared to the batch time (batch time: 0.0030s vs `on_test_batch_end` time: 0.0060s). Check your callbacks.\n",
      "8/8 [==============================] - 1s 92ms/step - loss: 0.6805 - acc: 0.5899 - val_loss: 0.6158 - val_acc: 0.7090\n",
      "Epoch 2/200\n",
      "8/8 [==============================] - 0s 27ms/step - loss: 0.5571 - acc: 0.7986 - val_loss: 0.4671 - val_acc: 0.9453\n",
      "Epoch 3/200\n",
      "8/8 [==============================] - 0s 26ms/step - loss: 0.3884 - acc: 0.9615 - val_loss: 0.2981 - val_acc: 0.9572\n",
      "Epoch 4/200\n",
      "8/8 [==============================] - 0s 28ms/step - loss: 0.2364 - acc: 0.9641 - val_loss: 0.1972 - val_acc: 0.9577\n",
      "Epoch 5/200\n",
      "8/8 [==============================] - 0s 26ms/step - loss: 0.1635 - acc: 0.9648 - val_loss: 0.1704 - val_acc: 0.9578\n",
      "Epoch 6/200\n",
      "8/8 [==============================] - 0s 27ms/step - loss: 0.1470 - acc: 0.9648 - val_loss: 0.1741 - val_acc: 0.9578\n",
      "Epoch 7/200\n",
      "8/8 [==============================] - 0s 26ms/step - loss: 0.1483 - acc: 0.9648 - val_loss: 0.1759 - val_acc: 0.9578\n",
      "Epoch 8/200\n",
      "8/8 [==============================] - 0s 26ms/step - loss: 0.1477 - acc: 0.9648 - val_loss: 0.1731 - val_acc: 0.9578\n",
      "Epoch 9/200\n",
      "8/8 [==============================] - 0s 26ms/step - loss: 0.1461 - acc: 0.9649 - val_loss: 0.1699 - val_acc: 0.9578\n",
      "Epoch 10/200\n",
      "8/8 [==============================] - 0s 26ms/step - loss: 0.1448 - acc: 0.9649 - val_loss: 0.1688 - val_acc: 0.9585\n",
      "Epoch 11/200\n",
      "8/8 [==============================] - 0s 26ms/step - loss: 0.1447 - acc: 0.9664 - val_loss: 0.1684 - val_acc: 0.9606\n",
      "Epoch 12/200\n",
      "8/8 [==============================] - 0s 26ms/step - loss: 0.1446 - acc: 0.9677 - val_loss: 0.1683 - val_acc: 0.9607\n",
      "Epoch 13/200\n",
      "8/8 [==============================] - 0s 27ms/step - loss: 0.1444 - acc: 0.9677 - val_loss: 0.1684 - val_acc: 0.9607\n",
      "Epoch 14/200\n",
      "8/8 [==============================] - 0s 27ms/step - loss: 0.1442 - acc: 0.9677 - val_loss: 0.1683 - val_acc: 0.9609\n",
      "Epoch 15/200\n",
      "8/8 [==============================] - 0s 26ms/step - loss: 0.1441 - acc: 0.9680 - val_loss: 0.1683 - val_acc: 0.9615\n",
      "Epoch 16/200\n",
      "8/8 [==============================] - 0s 26ms/step - loss: 0.1440 - acc: 0.9685 - val_loss: 0.1681 - val_acc: 0.9616\n",
      "Epoch 17/200\n",
      "8/8 [==============================] - 0s 27ms/step - loss: 0.1439 - acc: 0.9687 - val_loss: 0.1682 - val_acc: 0.9616\n",
      "Epoch 18/200\n",
      "8/8 [==============================] - 0s 26ms/step - loss: 0.1437 - acc: 0.9687 - val_loss: 0.1679 - val_acc: 0.9616\n",
      "Epoch 19/200\n",
      "8/8 [==============================] - 0s 25ms/step - loss: 0.1436 - acc: 0.9687 - val_loss: 0.1677 - val_acc: 0.9616\n",
      "Epoch 20/200\n",
      "8/8 [==============================] - 0s 24ms/step - loss: 0.1436 - acc: 0.9687 - val_loss: 0.1675 - val_acc: 0.9616\n",
      "Epoch 21/200\n",
      "8/8 [==============================] - 0s 26ms/step - loss: 0.1434 - acc: 0.9687 - val_loss: 0.1675 - val_acc: 0.9616\n",
      "Epoch 22/200\n",
      "8/8 [==============================] - 0s 25ms/step - loss: 0.1433 - acc: 0.9687 - val_loss: 0.1675 - val_acc: 0.9616\n",
      "Epoch 23/200\n",
      "8/8 [==============================] - 0s 27ms/step - loss: 0.1433 - acc: 0.9687 - val_loss: 0.1675 - val_acc: 0.9616\n",
      "Epoch 24/200\n",
      "8/8 [==============================] - 0s 26ms/step - loss: 0.1431 - acc: 0.9687 - val_loss: 0.1669 - val_acc: 0.9616\n",
      "Epoch 25/200\n",
      "8/8 [==============================] - 0s 27ms/step - loss: 0.1432 - acc: 0.9687 - val_loss: 0.1668 - val_acc: 0.9616\n",
      "Epoch 26/200\n",
      "8/8 [==============================] - 0s 26ms/step - loss: 0.1429 - acc: 0.9687 - val_loss: 0.1674 - val_acc: 0.9616\n",
      "Epoch 27/200\n",
      "8/8 [==============================] - 0s 26ms/step - loss: 0.1429 - acc: 0.9687 - val_loss: 0.1677 - val_acc: 0.9616\n",
      "Epoch 28/200\n",
      "8/8 [==============================] - 0s 27ms/step - loss: 0.1427 - acc: 0.9687 - val_loss: 0.1668 - val_acc: 0.9617\n",
      "Epoch 29/200\n",
      "8/8 [==============================] - 0s 26ms/step - loss: 0.1427 - acc: 0.9687 - val_loss: 0.1662 - val_acc: 0.9617\n",
      "Epoch 30/200\n",
      "8/8 [==============================] - 0s 27ms/step - loss: 0.1426 - acc: 0.9687 - val_loss: 0.1663 - val_acc: 0.9617\n",
      "Epoch 31/200\n",
      "8/8 [==============================] - 0s 26ms/step - loss: 0.1424 - acc: 0.9687 - val_loss: 0.1667 - val_acc: 0.9617\n",
      "Epoch 32/200\n",
      "8/8 [==============================] - 0s 27ms/step - loss: 0.1423 - acc: 0.9687 - val_loss: 0.1667 - val_acc: 0.9617\n",
      "Epoch 33/200\n",
      "8/8 [==============================] - 0s 27ms/step - loss: 0.1422 - acc: 0.9687 - val_loss: 0.1667 - val_acc: 0.9617\n",
      "Epoch 34/200\n",
      "8/8 [==============================] - 0s 26ms/step - loss: 0.1421 - acc: 0.9687 - val_loss: 0.1660 - val_acc: 0.9617\n",
      "Epoch 35/200\n",
      "8/8 [==============================] - 0s 27ms/step - loss: 0.1418 - acc: 0.9687 - val_loss: 0.1658 - val_acc: 0.9617\n",
      "Epoch 36/200\n",
      "8/8 [==============================] - 0s 27ms/step - loss: 0.1417 - acc: 0.9687 - val_loss: 0.1658 - val_acc: 0.9617\n",
      "Epoch 37/200\n",
      "8/8 [==============================] - 0s 25ms/step - loss: 0.1415 - acc: 0.9687 - val_loss: 0.1652 - val_acc: 0.9617\n",
      "Epoch 38/200\n",
      "8/8 [==============================] - 0s 26ms/step - loss: 0.1413 - acc: 0.9687 - val_loss: 0.1650 - val_acc: 0.9617\n",
      "Epoch 39/200\n",
      "8/8 [==============================] - 0s 25ms/step - loss: 0.1411 - acc: 0.9687 - val_loss: 0.1650 - val_acc: 0.9617\n",
      "Epoch 40/200\n",
      "8/8 [==============================] - 0s 27ms/step - loss: 0.1410 - acc: 0.9687 - val_loss: 0.1653 - val_acc: 0.9617\n",
      "Epoch 41/200\n",
      "8/8 [==============================] - 0s 27ms/step - loss: 0.1406 - acc: 0.9687 - val_loss: 0.1640 - val_acc: 0.9617\n",
      "Epoch 42/200\n",
      "8/8 [==============================] - 0s 27ms/step - loss: 0.1406 - acc: 0.9687 - val_loss: 0.1643 - val_acc: 0.9617\n",
      "Epoch 43/200\n",
      "8/8 [==============================] - 0s 27ms/step - loss: 0.1400 - acc: 0.9687 - val_loss: 0.1632 - val_acc: 0.9617\n",
      "Epoch 44/200\n",
      "8/8 [==============================] - 0s 27ms/step - loss: 0.1403 - acc: 0.9687 - val_loss: 0.1632 - val_acc: 0.9617\n",
      "Epoch 45/200\n",
      "8/8 [==============================] - 0s 27ms/step - loss: 0.1402 - acc: 0.9687 - val_loss: 0.1649 - val_acc: 0.9617\n",
      "Epoch 46/200\n",
      "8/8 [==============================] - 0s 26ms/step - loss: 0.1402 - acc: 0.9687 - val_loss: 0.1631 - val_acc: 0.9617\n",
      "Epoch 47/200\n",
      "8/8 [==============================] - 0s 25ms/step - loss: 0.1393 - acc: 0.9687 - val_loss: 0.1619 - val_acc: 0.9617\n",
      "Epoch 48/200\n",
      "8/8 [==============================] - 0s 26ms/step - loss: 0.1385 - acc: 0.9687 - val_loss: 0.1611 - val_acc: 0.9617\n",
      "Epoch 49/200\n",
      "8/8 [==============================] - 0s 27ms/step - loss: 0.1376 - acc: 0.9687 - val_loss: 0.1603 - val_acc: 0.9617\n",
      "Epoch 50/200\n",
      "8/8 [==============================] - 0s 27ms/step - loss: 0.1363 - acc: 0.9687 - val_loss: 0.1606 - val_acc: 0.9617\n",
      "Epoch 51/200\n",
      "8/8 [==============================] - 0s 27ms/step - loss: 0.1361 - acc: 0.9687 - val_loss: 0.1631 - val_acc: 0.9617\n",
      "Epoch 52/200\n",
      "8/8 [==============================] - 0s 27ms/step - loss: 0.1346 - acc: 0.9687 - val_loss: 0.1553 - val_acc: 0.9617\n",
      "Epoch 53/200\n",
      "8/8 [==============================] - 0s 27ms/step - loss: 0.1338 - acc: 0.9687 - val_loss: 0.1528 - val_acc: 0.9616\n",
      "Epoch 54/200\n",
      "8/8 [==============================] - 0s 27ms/step - loss: 0.1300 - acc: 0.9687 - val_loss: 0.1518 - val_acc: 0.9613\n",
      "Epoch 55/200\n",
      "8/8 [==============================] - 0s 25ms/step - loss: 0.1320 - acc: 0.9687 - val_loss: 0.1521 - val_acc: 0.9604\n",
      "Epoch 56/200\n",
      "8/8 [==============================] - 0s 27ms/step - loss: 0.1315 - acc: 0.9687 - val_loss: 0.1598 - val_acc: 0.9572\n",
      "Epoch 57/200\n",
      "8/8 [==============================] - 0s 27ms/step - loss: 0.1313 - acc: 0.9684 - val_loss: 0.1458 - val_acc: 0.9609\n",
      "Epoch 58/200\n",
      "8/8 [==============================] - 0s 26ms/step - loss: 0.1255 - acc: 0.9686 - val_loss: 0.1420 - val_acc: 0.9617\n",
      "Epoch 59/200\n",
      "8/8 [==============================] - 0s 25ms/step - loss: 0.1221 - acc: 0.9689 - val_loss: 0.1472 - val_acc: 0.9618\n",
      "Epoch 60/200\n",
      "8/8 [==============================] - 0s 27ms/step - loss: 0.1189 - acc: 0.9685 - val_loss: 0.1426 - val_acc: 0.9619\n",
      "Epoch 61/200\n",
      "8/8 [==============================] - 0s 27ms/step - loss: 0.1158 - acc: 0.9691 - val_loss: 0.1361 - val_acc: 0.9618\n"
     ]
    },
    {
     "name": "stdout",
     "output_type": "stream",
     "text": [
      "Epoch 62/200\n",
      "8/8 [==============================] - 0s 27ms/step - loss: 0.1112 - acc: 0.9688 - val_loss: 0.1364 - val_acc: 0.9620\n",
      "Epoch 63/200\n",
      "8/8 [==============================] - 0s 27ms/step - loss: 0.1033 - acc: 0.9701 - val_loss: 0.1465 - val_acc: 0.9522\n",
      "Epoch 64/200\n",
      "8/8 [==============================] - 0s 27ms/step - loss: 0.1077 - acc: 0.9688 - val_loss: 0.1358 - val_acc: 0.9624\n",
      "Epoch 65/200\n",
      "8/8 [==============================] - 0s 27ms/step - loss: 0.1073 - acc: 0.9702 - val_loss: 0.1334 - val_acc: 0.9561\n",
      "Epoch 66/200\n",
      "8/8 [==============================] - 0s 26ms/step - loss: 0.0952 - acc: 0.9711 - val_loss: 0.1427 - val_acc: 0.9515\n",
      "Epoch 67/200\n",
      "8/8 [==============================] - 0s 25ms/step - loss: 0.1021 - acc: 0.9702 - val_loss: 0.1386 - val_acc: 0.9530\n",
      "Epoch 68/200\n",
      "8/8 [==============================] - 0s 27ms/step - loss: 0.0919 - acc: 0.9721 - val_loss: 0.1528 - val_acc: 0.9468\n",
      "Epoch 69/200\n",
      "8/8 [==============================] - 0s 25ms/step - loss: 0.0974 - acc: 0.9713 - val_loss: 0.1497 - val_acc: 0.9469\n",
      "Epoch 70/200\n",
      "8/8 [==============================] - 0s 26ms/step - loss: 0.0959 - acc: 0.9716 - val_loss: 0.1877 - val_acc: 0.9309\n",
      "Epoch 71/200\n",
      "8/8 [==============================] - 0s 27ms/step - loss: 0.1016 - acc: 0.9722 - val_loss: 0.1270 - val_acc: 0.9555\n",
      "Epoch 72/200\n",
      "8/8 [==============================] - 0s 27ms/step - loss: 0.0919 - acc: 0.9721 - val_loss: 0.1209 - val_acc: 0.9586\n",
      "Epoch 73/200\n",
      "8/8 [==============================] - 0s 26ms/step - loss: 0.0917 - acc: 0.9723 - val_loss: 0.1197 - val_acc: 0.9631\n",
      "Epoch 74/200\n",
      "8/8 [==============================] - 0s 26ms/step - loss: 0.0955 - acc: 0.9710 - val_loss: 0.1291 - val_acc: 0.9636\n",
      "Epoch 75/200\n",
      "8/8 [==============================] - 0s 27ms/step - loss: 0.1013 - acc: 0.9719 - val_loss: 0.1493 - val_acc: 0.9480\n",
      "Epoch 76/200\n",
      "8/8 [==============================] - 0s 26ms/step - loss: 0.0907 - acc: 0.9723 - val_loss: 0.1161 - val_acc: 0.9603\n",
      "Epoch 77/200\n",
      "8/8 [==============================] - 0s 26ms/step - loss: 0.0884 - acc: 0.9723 - val_loss: 0.1191 - val_acc: 0.9634\n",
      "Epoch 78/200\n",
      "8/8 [==============================] - 0s 27ms/step - loss: 0.0906 - acc: 0.9728 - val_loss: 0.1365 - val_acc: 0.9506\n",
      "Epoch 79/200\n",
      "8/8 [==============================] - 0s 26ms/step - loss: 0.0848 - acc: 0.9732 - val_loss: 0.1203 - val_acc: 0.9572\n",
      "Epoch 80/200\n",
      "8/8 [==============================] - 0s 27ms/step - loss: 0.0827 - acc: 0.9733 - val_loss: 0.1208 - val_acc: 0.9567\n",
      "Epoch 81/200\n",
      "8/8 [==============================] - 0s 25ms/step - loss: 0.0815 - acc: 0.9735 - val_loss: 0.1299 - val_acc: 0.9523\n",
      "Epoch 82/200\n",
      "8/8 [==============================] - 0s 27ms/step - loss: 0.0816 - acc: 0.9738 - val_loss: 0.1131 - val_acc: 0.9621\n",
      "Epoch 83/200\n",
      "8/8 [==============================] - 0s 25ms/step - loss: 0.0871 - acc: 0.9724 - val_loss: 0.1119 - val_acc: 0.9627\n",
      "Epoch 84/200\n",
      "8/8 [==============================] - 0s 27ms/step - loss: 0.0852 - acc: 0.9729 - val_loss: 0.1143 - val_acc: 0.9594\n",
      "Epoch 85/200\n",
      "8/8 [==============================] - 0s 27ms/step - loss: 0.0815 - acc: 0.9734 - val_loss: 0.1140 - val_acc: 0.9593\n",
      "Epoch 86/200\n",
      "8/8 [==============================] - 0s 25ms/step - loss: 0.0795 - acc: 0.9737 - val_loss: 0.1204 - val_acc: 0.9561\n",
      "Epoch 87/200\n",
      "8/8 [==============================] - 0s 27ms/step - loss: 0.0808 - acc: 0.9733 - val_loss: 0.1374 - val_acc: 0.9500\n",
      "Epoch 88/200\n",
      "8/8 [==============================] - 0s 27ms/step - loss: 0.0836 - acc: 0.9734 - val_loss: 0.1121 - val_acc: 0.9599\n",
      "Epoch 89/200\n",
      "8/8 [==============================] - 0s 27ms/step - loss: 0.0768 - acc: 0.9747 - val_loss: 0.1174 - val_acc: 0.9570\n",
      "Epoch 90/200\n",
      "8/8 [==============================] - 0s 26ms/step - loss: 0.0775 - acc: 0.9743 - val_loss: 0.1130 - val_acc: 0.9588\n",
      "Epoch 91/200\n",
      "8/8 [==============================] - 0s 27ms/step - loss: 0.0781 - acc: 0.9737 - val_loss: 0.1089 - val_acc: 0.9627\n",
      "Epoch 92/200\n",
      "8/8 [==============================] - 0s 27ms/step - loss: 0.0840 - acc: 0.9740 - val_loss: 0.1636 - val_acc: 0.9398\n",
      "Epoch 93/200\n",
      "8/8 [==============================] - 0s 26ms/step - loss: 0.0837 - acc: 0.9733 - val_loss: 0.1064 - val_acc: 0.9632\n",
      "Epoch 94/200\n",
      "8/8 [==============================] - 0s 28ms/step - loss: 0.0770 - acc: 0.9745 - val_loss: 0.1163 - val_acc: 0.9578\n",
      "Epoch 95/200\n",
      "8/8 [==============================] - 0s 27ms/step - loss: 0.0754 - acc: 0.9748 - val_loss: 0.1125 - val_acc: 0.9586\n",
      "Epoch 96/200\n",
      "8/8 [==============================] - 0s 27ms/step - loss: 0.0750 - acc: 0.9747 - val_loss: 0.1127 - val_acc: 0.9582\n",
      "Epoch 97/200\n",
      "8/8 [==============================] - 0s 26ms/step - loss: 0.0776 - acc: 0.9744 - val_loss: 0.1085 - val_acc: 0.9635\n",
      "Epoch 98/200\n",
      "8/8 [==============================] - 0s 27ms/step - loss: 0.0811 - acc: 0.9727 - val_loss: 0.1134 - val_acc: 0.9581\n",
      "Epoch 99/200\n",
      "8/8 [==============================] - 0s 27ms/step - loss: 0.0740 - acc: 0.9750 - val_loss: 0.1055 - val_acc: 0.9624\n",
      "Epoch 100/200\n",
      "8/8 [==============================] - 0s 27ms/step - loss: 0.0788 - acc: 0.9739 - val_loss: 0.1048 - val_acc: 0.9628\n",
      "Epoch 101/200\n",
      "8/8 [==============================] - 0s 27ms/step - loss: 0.0796 - acc: 0.9741 - val_loss: 0.1235 - val_acc: 0.9546\n",
      "Epoch 102/200\n",
      "8/8 [==============================] - 0s 26ms/step - loss: 0.0766 - acc: 0.9750 - val_loss: 0.1128 - val_acc: 0.9584\n",
      "Epoch 103/200\n",
      "8/8 [==============================] - 0s 27ms/step - loss: 0.0732 - acc: 0.9754 - val_loss: 0.1044 - val_acc: 0.9627\n",
      "Epoch 104/200\n",
      "8/8 [==============================] - 0s 26ms/step - loss: 0.0759 - acc: 0.9750 - val_loss: 0.1328 - val_acc: 0.9505\n",
      "Epoch 105/200\n",
      "8/8 [==============================] - 0s 27ms/step - loss: 0.0743 - acc: 0.9750 - val_loss: 0.1044 - val_acc: 0.9624\n",
      "Epoch 106/200\n",
      "8/8 [==============================] - 0s 25ms/step - loss: 0.0761 - acc: 0.9749 - val_loss: 0.1060 - val_acc: 0.9610\n",
      "Epoch 107/200\n",
      "8/8 [==============================] - 0s 27ms/step - loss: 0.0780 - acc: 0.9738 - val_loss: 0.1118 - val_acc: 0.9580\n",
      "Epoch 108/200\n",
      "8/8 [==============================] - 0s 25ms/step - loss: 0.0737 - acc: 0.9749 - val_loss: 0.1168 - val_acc: 0.9565\n",
      "Epoch 109/200\n",
      "8/8 [==============================] - 0s 27ms/step - loss: 0.0728 - acc: 0.9753 - val_loss: 0.1036 - val_acc: 0.9625\n",
      "Epoch 110/200\n",
      "8/8 [==============================] - 0s 26ms/step - loss: 0.0734 - acc: 0.9748 - val_loss: 0.1106 - val_acc: 0.9585\n",
      "Epoch 111/200\n",
      "8/8 [==============================] - 0s 27ms/step - loss: 0.0723 - acc: 0.9754 - val_loss: 0.1046 - val_acc: 0.9617\n",
      "Epoch 112/200\n",
      "8/8 [==============================] - 0s 26ms/step - loss: 0.0750 - acc: 0.9741 - val_loss: 0.1032 - val_acc: 0.9625\n",
      "Epoch 113/200\n",
      "8/8 [==============================] - 0s 26ms/step - loss: 0.0819 - acc: 0.9744 - val_loss: 0.1229 - val_acc: 0.9548\n",
      "Epoch 114/200\n",
      "8/8 [==============================] - 0s 25ms/step - loss: 0.0759 - acc: 0.9743 - val_loss: 0.1091 - val_acc: 0.9602\n",
      "Epoch 115/200\n",
      "8/8 [==============================] - 0s 27ms/step - loss: 0.0719 - acc: 0.9755 - val_loss: 0.1078 - val_acc: 0.9601\n",
      "Epoch 116/200\n",
      "8/8 [==============================] - 0s 27ms/step - loss: 0.0733 - acc: 0.9749 - val_loss: 0.1152 - val_acc: 0.9564\n",
      "Epoch 117/200\n",
      "8/8 [==============================] - 0s 27ms/step - loss: 0.0727 - acc: 0.9752 - val_loss: 0.1116 - val_acc: 0.9584\n",
      "Epoch 118/200\n",
      "8/8 [==============================] - 0s 25ms/step - loss: 0.0709 - acc: 0.9756 - val_loss: 0.1048 - val_acc: 0.9613\n",
      "Epoch 119/200\n",
      "8/8 [==============================] - 0s 27ms/step - loss: 0.0714 - acc: 0.9755 - val_loss: 0.1028 - val_acc: 0.9621\n",
      "Epoch 120/200\n",
      "8/8 [==============================] - 0s 26ms/step - loss: 0.0719 - acc: 0.9755 - val_loss: 0.1171 - val_acc: 0.9558\n",
      "Epoch 121/200\n",
      "8/8 [==============================] - 0s 26ms/step - loss: 0.0733 - acc: 0.9750 - val_loss: 0.1159 - val_acc: 0.9566\n",
      "Epoch 122/200\n",
      "8/8 [==============================] - 0s 26ms/step - loss: 0.0714 - acc: 0.9755 - val_loss: 0.1023 - val_acc: 0.9622\n",
      "Epoch 123/200\n",
      "8/8 [==============================] - 0s 27ms/step - loss: 0.0726 - acc: 0.9754 - val_loss: 0.1256 - val_acc: 0.9533\n",
      "Epoch 124/200\n"
     ]
    },
    {
     "name": "stdout",
     "output_type": "stream",
     "text": [
      "8/8 [==============================] - 0s 27ms/step - loss: 0.0734 - acc: 0.9751 - val_loss: 0.1038 - val_acc: 0.9615\n",
      "Epoch 125/200\n",
      "8/8 [==============================] - 0s 26ms/step - loss: 0.0710 - acc: 0.9752 - val_loss: 0.1036 - val_acc: 0.9614\n",
      "Epoch 126/200\n",
      "8/8 [==============================] - 0s 25ms/step - loss: 0.0695 - acc: 0.9757 - val_loss: 0.1114 - val_acc: 0.9578\n",
      "Epoch 127/200\n",
      "8/8 [==============================] - 0s 26ms/step - loss: 0.0714 - acc: 0.9756 - val_loss: 0.1199 - val_acc: 0.9545\n",
      "Epoch 128/200\n",
      "8/8 [==============================] - 0s 25ms/step - loss: 0.0722 - acc: 0.9756 - val_loss: 0.1092 - val_acc: 0.9586\n",
      "Epoch 129/200\n",
      "8/8 [==============================] - 0s 27ms/step - loss: 0.0693 - acc: 0.9758 - val_loss: 0.1068 - val_acc: 0.9597\n",
      "Epoch 130/200\n",
      "8/8 [==============================] - 0s 26ms/step - loss: 0.0695 - acc: 0.9757 - val_loss: 0.1101 - val_acc: 0.9587\n",
      "Epoch 131/200\n",
      "8/8 [==============================] - 0s 26ms/step - loss: 0.0722 - acc: 0.9752 - val_loss: 0.1159 - val_acc: 0.9566\n",
      "Epoch 132/200\n",
      "8/8 [==============================] - 0s 26ms/step - loss: 0.0687 - acc: 0.9764 - val_loss: 0.1008 - val_acc: 0.9640\n",
      "Epoch 133/200\n",
      "8/8 [==============================] - 0s 27ms/step - loss: 0.0780 - acc: 0.9751 - val_loss: 0.1360 - val_acc: 0.9492\n",
      "Epoch 134/200\n",
      "8/8 [==============================] - 0s 27ms/step - loss: 0.0763 - acc: 0.9755 - val_loss: 0.0994 - val_acc: 0.9639\n",
      "Epoch 135/200\n",
      "8/8 [==============================] - 0s 27ms/step - loss: 0.0702 - acc: 0.9759 - val_loss: 0.1069 - val_acc: 0.9604\n",
      "Epoch 136/200\n",
      "8/8 [==============================] - 0s 26ms/step - loss: 0.0687 - acc: 0.9757 - val_loss: 0.1003 - val_acc: 0.9627\n",
      "Epoch 137/200\n",
      "8/8 [==============================] - 0s 26ms/step - loss: 0.0699 - acc: 0.9756 - val_loss: 0.1144 - val_acc: 0.9557\n",
      "Epoch 138/200\n",
      "8/8 [==============================] - 0s 26ms/step - loss: 0.0689 - acc: 0.9758 - val_loss: 0.1082 - val_acc: 0.9587\n",
      "Epoch 139/200\n",
      "8/8 [==============================] - 0s 27ms/step - loss: 0.0688 - acc: 0.9759 - val_loss: 0.1046 - val_acc: 0.9606\n",
      "Epoch 140/200\n",
      "8/8 [==============================] - 0s 26ms/step - loss: 0.0688 - acc: 0.9758 - val_loss: 0.1145 - val_acc: 0.9562\n",
      "Epoch 141/200\n",
      "8/8 [==============================] - 0s 27ms/step - loss: 0.0695 - acc: 0.9756 - val_loss: 0.1072 - val_acc: 0.9589\n",
      "Epoch 142/200\n",
      "8/8 [==============================] - 0s 26ms/step - loss: 0.0700 - acc: 0.9759 - val_loss: 0.1030 - val_acc: 0.9609\n",
      "Epoch 143/200\n",
      "8/8 [==============================] - 0s 25ms/step - loss: 0.0704 - acc: 0.9755 - val_loss: 0.1007 - val_acc: 0.9626\n",
      "Epoch 144/200\n",
      "8/8 [==============================] - 0s 27ms/step - loss: 0.0736 - acc: 0.9754 - val_loss: 0.1191 - val_acc: 0.9559\n",
      "Epoch 145/200\n",
      "8/8 [==============================] - 0s 27ms/step - loss: 0.0709 - acc: 0.9754 - val_loss: 0.1014 - val_acc: 0.9623\n",
      "Epoch 146/200\n",
      "8/8 [==============================] - 0s 25ms/step - loss: 0.0693 - acc: 0.9760 - val_loss: 0.1034 - val_acc: 0.9618\n",
      "Epoch 147/200\n",
      "8/8 [==============================] - 0s 26ms/step - loss: 0.0684 - acc: 0.9759 - val_loss: 0.1032 - val_acc: 0.9607\n",
      "Epoch 148/200\n",
      "8/8 [==============================] - 0s 25ms/step - loss: 0.0679 - acc: 0.9760 - val_loss: 0.1137 - val_acc: 0.9564\n",
      "Epoch 149/200\n",
      "8/8 [==============================] - 0s 26ms/step - loss: 0.0728 - acc: 0.9747 - val_loss: 0.1151 - val_acc: 0.9565\n",
      "Epoch 150/200\n",
      "8/8 [==============================] - 0s 27ms/step - loss: 0.0715 - acc: 0.9754 - val_loss: 0.0984 - val_acc: 0.9642\n",
      "Epoch 151/200\n",
      "8/8 [==============================] - 0s 26ms/step - loss: 0.0686 - acc: 0.9766 - val_loss: 0.1185 - val_acc: 0.9549\n",
      "Epoch 152/200\n",
      "8/8 [==============================] - 0s 26ms/step - loss: 0.0688 - acc: 0.9758 - val_loss: 0.1024 - val_acc: 0.9608\n",
      "Epoch 153/200\n",
      "8/8 [==============================] - 0s 25ms/step - loss: 0.0675 - acc: 0.9760 - val_loss: 0.1090 - val_acc: 0.9579\n",
      "Epoch 154/200\n",
      "8/8 [==============================] - 0s 27ms/step - loss: 0.0672 - acc: 0.9761 - val_loss: 0.1006 - val_acc: 0.9620\n",
      "Epoch 155/200\n",
      "8/8 [==============================] - 0s 25ms/step - loss: 0.0674 - acc: 0.9761 - val_loss: 0.1175 - val_acc: 0.9549\n",
      "Epoch 156/200\n",
      "8/8 [==============================] - 0s 26ms/step - loss: 0.0691 - acc: 0.9760 - val_loss: 0.0988 - val_acc: 0.9635\n",
      "Epoch 157/200\n",
      "8/8 [==============================] - 0s 25ms/step - loss: 0.0683 - acc: 0.9760 - val_loss: 0.1206 - val_acc: 0.9533\n",
      "Epoch 158/200\n",
      "8/8 [==============================] - 0s 26ms/step - loss: 0.0675 - acc: 0.9757 - val_loss: 0.0976 - val_acc: 0.9641\n",
      "Epoch 159/200\n",
      "8/8 [==============================] - 0s 25ms/step - loss: 0.0706 - acc: 0.9756 - val_loss: 0.1026 - val_acc: 0.9611\n",
      "Epoch 160/200\n",
      "8/8 [==============================] - 0s 26ms/step - loss: 0.0686 - acc: 0.9759 - val_loss: 0.1088 - val_acc: 0.9596\n",
      "Epoch 161/200\n",
      "8/8 [==============================] - 0s 27ms/step - loss: 0.0681 - acc: 0.9760 - val_loss: 0.1056 - val_acc: 0.9598\n",
      "Epoch 162/200\n",
      "8/8 [==============================] - 0s 26ms/step - loss: 0.0669 - acc: 0.9762 - val_loss: 0.1020 - val_acc: 0.9612\n",
      "Epoch 163/200\n",
      "8/8 [==============================] - 0s 26ms/step - loss: 0.0684 - acc: 0.9756 - val_loss: 0.1017 - val_acc: 0.9611\n",
      "Epoch 164/200\n",
      "8/8 [==============================] - 0s 25ms/step - loss: 0.0679 - acc: 0.9760 - val_loss: 0.1048 - val_acc: 0.9601\n",
      "Epoch 165/200\n",
      "8/8 [==============================] - 0s 26ms/step - loss: 0.0676 - acc: 0.9758 - val_loss: 0.0998 - val_acc: 0.9624\n",
      "Epoch 166/200\n",
      "8/8 [==============================] - 0s 27ms/step - loss: 0.0679 - acc: 0.9763 - val_loss: 0.0992 - val_acc: 0.9624\n",
      "Epoch 167/200\n",
      "8/8 [==============================] - 0s 27ms/step - loss: 0.0710 - acc: 0.9754 - val_loss: 0.1195 - val_acc: 0.9541\n",
      "Epoch 168/200\n",
      "8/8 [==============================] - 0s 27ms/step - loss: 0.0667 - acc: 0.9763 - val_loss: 0.0985 - val_acc: 0.9633\n",
      "Epoch 169/200\n",
      "8/8 [==============================] - 0s 25ms/step - loss: 0.0668 - acc: 0.9762 - val_loss: 0.1043 - val_acc: 0.9608\n",
      "Epoch 170/200\n",
      "8/8 [==============================] - 0s 26ms/step - loss: 0.0668 - acc: 0.9762 - val_loss: 0.0987 - val_acc: 0.9626\n",
      "Epoch 171/200\n",
      "8/8 [==============================] - 0s 25ms/step - loss: 0.0698 - acc: 0.9759 - val_loss: 0.0988 - val_acc: 0.9632\n",
      "Epoch 172/200\n",
      "8/8 [==============================] - 0s 26ms/step - loss: 0.0682 - acc: 0.9759 - val_loss: 0.1096 - val_acc: 0.9583\n",
      "Epoch 173/200\n",
      "8/8 [==============================] - 0s 27ms/step - loss: 0.0700 - acc: 0.9756 - val_loss: 0.1166 - val_acc: 0.9557\n",
      "Epoch 174/200\n",
      "8/8 [==============================] - 0s 27ms/step - loss: 0.0684 - acc: 0.9755 - val_loss: 0.0983 - val_acc: 0.9631\n",
      "Epoch 175/200\n",
      "8/8 [==============================] - 0s 25ms/step - loss: 0.0678 - acc: 0.9761 - val_loss: 0.0986 - val_acc: 0.9626\n",
      "Epoch 176/200\n",
      "8/8 [==============================] - 0s 26ms/step - loss: 0.0676 - acc: 0.9762 - val_loss: 0.0987 - val_acc: 0.9630\n",
      "Epoch 177/200\n",
      "8/8 [==============================] - 0s 27ms/step - loss: 0.0660 - acc: 0.9763 - val_loss: 0.1088 - val_acc: 0.9585\n",
      "Epoch 178/200\n",
      "8/8 [==============================] - 0s 25ms/step - loss: 0.0663 - acc: 0.9764 - val_loss: 0.1053 - val_acc: 0.9594\n",
      "Epoch 179/200\n",
      "8/8 [==============================] - 0s 26ms/step - loss: 0.0656 - acc: 0.9765 - val_loss: 0.1004 - val_acc: 0.9615\n",
      "Epoch 180/200\n",
      "8/8 [==============================] - 0s 25ms/step - loss: 0.0669 - acc: 0.9763 - val_loss: 0.1192 - val_acc: 0.9537\n",
      "Epoch 181/200\n",
      "8/8 [==============================] - 0s 26ms/step - loss: 0.0671 - acc: 0.9764 - val_loss: 0.0970 - val_acc: 0.9637\n",
      "Epoch 182/200\n",
      "8/8 [==============================] - 0s 27ms/step - loss: 0.0692 - acc: 0.9749 - val_loss: 0.1157 - val_acc: 0.9557\n",
      "Epoch 183/200\n",
      "8/8 [==============================] - 0s 25ms/step - loss: 0.0671 - acc: 0.9765 - val_loss: 0.0993 - val_acc: 0.9624\n",
      "Epoch 184/200\n",
      "8/8 [==============================] - 0s 26ms/step - loss: 0.0668 - acc: 0.9762 - val_loss: 0.0971 - val_acc: 0.9633\n",
      "Epoch 185/200\n",
      "8/8 [==============================] - 0s 25ms/step - loss: 0.0710 - acc: 0.9753 - val_loss: 0.1070 - val_acc: 0.9607\n",
      "Epoch 186/200\n"
     ]
    },
    {
     "name": "stdout",
     "output_type": "stream",
     "text": [
      "8/8 [==============================] - 0s 25ms/step - loss: 0.0682 - acc: 0.9760 - val_loss: 0.1001 - val_acc: 0.9633\n",
      "Epoch 187/200\n",
      "8/8 [==============================] - 0s 26ms/step - loss: 0.0696 - acc: 0.9761 - val_loss: 0.0978 - val_acc: 0.9653\n",
      "Epoch 188/200\n",
      "8/8 [==============================] - 0s 25ms/step - loss: 0.0790 - acc: 0.9753 - val_loss: 0.1343 - val_acc: 0.9527\n",
      "Epoch 189/200\n",
      "8/8 [==============================] - 0s 26ms/step - loss: 0.0732 - acc: 0.9744 - val_loss: 0.0952 - val_acc: 0.9657\n",
      "Epoch 190/200\n",
      "8/8 [==============================] - 0s 25ms/step - loss: 0.0673 - acc: 0.9764 - val_loss: 0.1108 - val_acc: 0.9583\n",
      "Epoch 191/200\n",
      "8/8 [==============================] - 0s 26ms/step - loss: 0.0660 - acc: 0.9766 - val_loss: 0.1014 - val_acc: 0.9605\n",
      "Epoch 192/200\n",
      "8/8 [==============================] - 0s 25ms/step - loss: 0.0656 - acc: 0.9765 - val_loss: 0.1073 - val_acc: 0.9586\n",
      "Epoch 193/200\n",
      "8/8 [==============================] - 0s 26ms/step - loss: 0.0653 - acc: 0.9766 - val_loss: 0.1013 - val_acc: 0.9613\n",
      "Epoch 194/200\n",
      "8/8 [==============================] - 0s 26ms/step - loss: 0.0656 - acc: 0.9766 - val_loss: 0.1069 - val_acc: 0.9589\n",
      "Epoch 195/200\n",
      "8/8 [==============================] - 0s 26ms/step - loss: 0.0654 - acc: 0.9765 - val_loss: 0.1006 - val_acc: 0.9622\n",
      "Epoch 196/200\n",
      "8/8 [==============================] - 0s 25ms/step - loss: 0.0647 - acc: 0.9767 - val_loss: 0.1060 - val_acc: 0.9595\n",
      "Epoch 197/200\n",
      "8/8 [==============================] - 0s 24ms/step - loss: 0.0682 - acc: 0.9757 - val_loss: 0.0964 - val_acc: 0.9640\n",
      "Epoch 198/200\n",
      "8/8 [==============================] - 0s 26ms/step - loss: 0.0658 - acc: 0.9771 - val_loss: 0.1202 - val_acc: 0.9544\n",
      "Epoch 199/200\n",
      "8/8 [==============================] - 0s 25ms/step - loss: 0.0680 - acc: 0.9765 - val_loss: 0.0985 - val_acc: 0.9627\n",
      "Epoch 200/200\n",
      "8/8 [==============================] - 0s 26ms/step - loss: 0.0661 - acc: 0.9765 - val_loss: 0.0991 - val_acc: 0.9623\n"
     ]
    },
    {
     "data": {
      "text/plain": [
       "<tensorflow.python.keras.callbacks.History at 0x2a9850f1e88>"
      ]
     },
     "execution_count": 31,
     "metadata": {},
     "output_type": "execute_result"
    }
   ],
   "source": [
    "conv_ae.fit(train_x_,y_552_,epochs=200,batch_size=5,\n",
    "         validation_data=(valid_x_,y_476_),\n",
    "         validation_batch_size=5)"
   ]
  },
  {
   "cell_type": "markdown",
   "metadata": {},
   "source": [
    "# 四、比较结果"
   ]
  },
  {
   "cell_type": "code",
   "execution_count": 32,
   "metadata": {},
   "outputs": [],
   "source": [
    "va = valid_x[1][::2,::2,:]"
   ]
  },
  {
   "cell_type": "code",
   "execution_count": 33,
   "metadata": {},
   "outputs": [
    {
     "data": {
      "text/plain": [
       "(256, 256, 3)"
      ]
     },
     "execution_count": 33,
     "metadata": {},
     "output_type": "execute_result"
    }
   ],
   "source": [
    "va.shape"
   ]
  },
  {
   "cell_type": "code",
   "execution_count": 34,
   "metadata": {},
   "outputs": [],
   "source": [
    "va = Image.fromarray(np.uint8(va))"
   ]
  },
  {
   "cell_type": "code",
   "execution_count": 35,
   "metadata": {},
   "outputs": [
    {
     "data": {
      "image/png": "[encoded data removed]",
      "text/plain": [
       "<PIL.Image.Image image mode=RGB size=256x256 at 0x2A986D76DC8>"
      ]
     },
     "execution_count": 35,
     "metadata": {},
     "output_type": "execute_result"
    }
   ],
   "source": [
    "va"
   ]
  },
  {
   "cell_type": "code",
   "execution_count": 36,
   "metadata": {},
   "outputs": [
    {
     "name": "stdout",
     "output_type": "stream",
     "text": [
      "WARNING:tensorflow:From <ipython-input-36-7ea86d0043d8>:1: Sequential.predict_classes (from tensorflow.python.keras.engine.sequential) is deprecated and will be removed after 2021-01-01.\n",
      "Instructions for updating:\n",
      "Please use instead:* `np.argmax(model.predict(x), axis=-1)`,   if your model does multi-class classification   (e.g. if it uses a `softmax` last-layer activation).* `(model.predict(x) > 0.5).astype(\"int32\")`,   if your model does binary classification   (e.g. if it uses a `sigmoid` last-layer activation).\n"
     ]
    }
   ],
   "source": [
    "pr = conv_ae.predict_classes(valid_x_[1].reshape(1,256,256,3))"
   ]
  },
  {
   "cell_type": "code",
   "execution_count": 37,
   "metadata": {},
   "outputs": [
    {
     "data": {
      "text/plain": [
       "(1, 256, 256, 1)"
      ]
     },
     "execution_count": 37,
     "metadata": {},
     "output_type": "execute_result"
    }
   ],
   "source": [
    "pr.shape"
   ]
  },
  {
   "cell_type": "code",
   "execution_count": 38,
   "metadata": {},
   "outputs": [],
   "source": [
    "pr = pr.reshape(256,256)"
   ]
  },
  {
   "cell_type": "code",
   "execution_count": 39,
   "metadata": {},
   "outputs": [],
   "source": [
    "pr_ = np.zeros((256,256,3))"
   ]
  },
  {
   "cell_type": "code",
   "execution_count": 40,
   "metadata": {},
   "outputs": [],
   "source": [
    "pr_[:,:,0][pr==1]=255"
   ]
  },
  {
   "cell_type": "code",
   "execution_count": 41,
   "metadata": {},
   "outputs": [],
   "source": [
    "pr_ = Image.fromarray(np.uint8(pr_))"
   ]
  },
  {
   "cell_type": "code",
   "execution_count": 42,
   "metadata": {},
   "outputs": [
    {
     "data": {
      "image/png": "[encoded data removed]",
      "text/plain": [
       "<PIL.Image.Image image mode=RGB size=256x256 at 0x2A99CC847C8>"
      ]
     },
     "execution_count": 42,
     "metadata": {},
     "output_type": "execute_result"
    }
   ],
   "source": [
    "pr_"
   ]
  },
  {
   "cell_type": "code",
   "execution_count": 43,
   "metadata": {},
   "outputs": [],
   "source": [
    "blend = Image.blend(va, pr_, 0.3)"
   ]
  },
  {
   "cell_type": "code",
   "execution_count": 44,
   "metadata": {},
   "outputs": [
    {
     "data": {
      "image/png": "[encoded data removed]",
      "text/plain": [
       "<PIL.Image.Image image mode=RGB size=256x256 at 0x2A99CC86308>"
      ]
     },
     "execution_count": 44,
     "metadata": {},
     "output_type": "execute_result"
    }
   ],
   "source": [
    "blend"
   ]
  },
  {
   "cell_type": "code",
   "execution_count": null,
   "metadata": {},
   "outputs": [],
   "source": []
  }
 ],
 "metadata": {
  "kernelspec": {
   "display_name": "Python 3",
   "language": "python",
   "name": "python3"
  },
  "language_info": {
   "codemirror_mode": {
    "name": "ipython",
    "version": 3
   },
   "file_extension": ".py",
   "mimetype": "text/x-python",
   "name": "python",
   "nbconvert_exporter": "python",
   "pygments_lexer": "ipython3",
   "version": "3.7.6"
  }
 },
 "nbformat": 4,
 "nbformat_minor": 4
}
